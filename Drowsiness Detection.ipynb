{
 "cells": [
  {
   "cell_type": "code",
   "execution_count": null,
   "id": "c58ff784",
   "metadata": {},
   "outputs": [],
   "source": [
    "from scipy.spatial import distance as dist\n",
    "from imutils import face_utils\n",
    "import cv2\n",
    "import winsound\n",
    "import dlib"
   ]
  },
  {
   "cell_type": "code",
   "execution_count": null,
   "id": "6ea520b4",
   "metadata": {},
   "outputs": [],
   "source": [
    "frequency = 2500\n",
    "duration = 1000\n",
    "def eyeAspectRatio(eye):\n",
    "    #vertical\n",
    "    A = dist.euclidean(eye[1],eye[5])\n",
    "    B = dist.euclidean(eye[2],eye[4])\n",
    "    #horizontal\n",
    "    C = dist.euclidean(eye[0],eye[3])\n",
    "    ear = (A + B) / (2.0 * C)\n",
    "    return ear"
   ]
  },
  {
   "cell_type": "code",
   "execution_count": null,
   "id": "3cdb0005",
   "metadata": {},
   "outputs": [],
   "source": [
    "count = 0\n",
    "earThresh = 0.3 #distance between vertical eye coordinate threshold\n",
    "earFrames = 48 #consecutive frames for eye closure\n",
    "shape_predictor = 'face.dat'\n",
    "\n",
    "cam = cv2.VideoCapture(0)\n",
    "detector = dlib.get_frontal_face_detector() #face detection\n",
    "predictor = dlib.shape_predictor(shape_predictor) #facial landmarks\n",
    "\n",
    "#get the coordinate of left and right eye\n",
    "(l_start,l_end) = face_utils.FACIAL_LANDMARKS_IDXS['left_eye']\n",
    "(r_start,r_end) = face_utils.FACIAL_LANDMARKS_IDXS['right_eye']\n"
   ]
  },
  {
   "cell_type": "code",
   "execution_count": null,
   "id": "68734d52",
   "metadata": {},
   "outputs": [],
   "source": [
    "while True:\n",
    "    _,frame = cam.read()\n",
    "    frame = imutils.resize(frame,width = 450)\n",
    "    gray = cv2.cvtColor(frame,cv2.COLOR_BGR2GRAY)\n",
    "    \n",
    "    rects = detector(gray,0)\n",
    "    for rect in rects:\n",
    "        shape = predictor(gray , rect)\n",
    "        shape = face_utils.shape_to_np(shape)\n",
    "        \n",
    "        left_eye = shape[l_start:l_end]\n",
    "        right_eye = shape[r_start:r_end]\n",
    "        leftEAR = eyeAspectRatio(left_eye)\n",
    "        rightEAR = eyeAspectRatio(right_eye)\n",
    "        \n",
    "        ear = (leftEAR + rightEAR)/2.0\n",
    "        \n",
    "        leftEyeHull = cv2.convexHull(left_eye)\n",
    "        rightEyeHull = cv2.convexHull(right_eye)\n",
    "        cv2.drawContours(frame,[leftEyeHull],-1,(0,0,255))\n",
    "        cv2.drawContours(frame,[rightEyeHull],-1,(0,0,255))\n",
    "        \n",
    "        if ear< earThresh:\n",
    "            count += 1\n",
    "            if count >= earFrames:\n",
    "                cv2.putText(frame,\"Drowsiness Detected\",(10,30),cv2.FONT_HERSHEY_SIMPLEX,0.7,(0,0,255),1)\n",
    "                winsound.Beep(frequency,duration)\n",
    "        else:\n",
    "            count = 0\n",
    "    cv2.imshow('frame',frame)\n",
    "    key = cv2.waitKey(10)\n",
    "    if key == 27:\n",
    "        break\n",
    "cam.release()\n",
    "cv2.destroyAllWindows()"
   ]
  }
 ],
 "metadata": {
  "kernelspec": {
   "display_name": "Python 3",
   "language": "python",
   "name": "python3"
  },
  "language_info": {
   "codemirror_mode": {
    "name": "ipython",
    "version": 3
   },
   "file_extension": ".py",
   "mimetype": "text/x-python",
   "name": "python",
   "nbconvert_exporter": "python",
   "pygments_lexer": "ipython3",
   "version": "3.8.11"
  }
 },
 "nbformat": 4,
 "nbformat_minor": 5
}
